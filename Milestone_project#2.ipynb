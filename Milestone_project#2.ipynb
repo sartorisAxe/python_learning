{
 "cells": [
  {
   "cell_type": "code",
   "execution_count": 1,
   "metadata": {},
   "outputs": [],
   "source": [
    "class Card:\n",
    "    \n",
    "    playing = False\n",
    "    def __init__(self, suits, ranks, values):\n",
    "        self.suits = suits\n",
    "        self.ranks = ranks\n",
    "        self.values = values\n",
    "        \n",
    "    def __str__(self):\n",
    "        return f\"{self.ranks} of {self.suits}\"\n"
   ]
  },
  {
   "cell_type": "code",
   "execution_count": 4,
   "metadata": {},
   "outputs": [],
   "source": [
    "class Hand:\n",
    "    \n",
    "    def __init__(self):\n",
    "        self.cards = []  # start with an empty list as we did in the Deck class\n",
    "        self.value = 0   # start with zero value\n",
    "        self.aces = 0    # add an attribute to keep track of aces\n",
    "    \n",
    "    def __str__(self):\n",
    "        return f\"The hand score is {self.value}\"\n",
    "    \n",
    "    def add_card(self,card):\n",
    "        self.cards.append(card)\n",
    "        card.playing = True\n",
    "        self.value += card.values        \n",
    "        if card.ranks == 'Ace':\n",
    "            self.aces += 1\n",
    "        return self.value\n",
    "    \n",
    "    def adjust_for_ace(self):\n",
    "        if self.value >= 21:\n",
    "            self.value -= self.aces*10\n"
   ]
  },
  {
   "cell_type": "code",
   "execution_count": 3,
   "metadata": {},
   "outputs": [],
   "source": [
    "class Chips:\n",
    "    \n",
    "    def __init__(self, total=100):\n",
    "        self.total = total  # This can be set to a default value or supplied by a user input\n",
    "        self.bet = 0\n",
    "    def __str__(self):\n",
    "        return f'You have {self.total} chips'\n",
    "    \n",
    "    def win_bet(self):\n",
    "        self.total += self.bet\n",
    "        self.bet = 0\n",
    "        return f'Now, you have {self.total} chips'\n",
    "        \n",
    "    def lose_bet(self):\n",
    "        self.total -+ self.bet\n",
    "        self.bet = 0\n",
    "        return f'Now, you have {self.total} chips'\n",
    "        \n",
    "    def increase_bet(self, amount):\n",
    "        if self.bet + amount > self.total:\n",
    "            return \"You don't have enough chips\"\n",
    "        else:\n",
    "            self.bet += amount\n",
    "            return f\"Current bet is {self.bet} chips\"\n",
    "        "
   ]
  },
  {
   "cell_type": "code",
   "execution_count": 6,
   "metadata": {},
   "outputs": [],
   "source": [
    "def take_bet(money):\n",
    "    #it let you know the minimum bet amount\n",
    "    print(\"Greetings! Welcome to the Blackjack card game. The minimum bet is 10 chips\")\n",
    "    bet = 10\n",
    "    s = ''\n",
    "    #and ask whether you want to increase it or not \n",
    "    while True:\n",
    "        print (f'\\nYour current bet is {bet}')    \n",
    "        s = input(\"Do you want to place a bet? Y - yes, N - No \")        \n",
    "        if s.lower() == 'y':\n",
    "            while True:\n",
    "                #if yes use try/except to take an integer value\n",
    "                try:\n",
    "                    result = int(input(\"Place a bet: \"))\n",
    "                except:\n",
    "                    print(\"It's not a number\\n\")\n",
    "                    continue\n",
    "                else:\n",
    "                    bet += result\n",
    "                    if bet > money.total:\n",
    "                        print('Not enough chips')\n",
    "                        print(f'You have:{money.total}')\n",
    "                        print(f'Your bet was: {bet}')\n",
    "                        bet = 10\n",
    "                    else: \n",
    "                        money.increase_bet(bet)\n",
    "                        bet = 10\n",
    "                        break\n",
    "        elif s.lower() == 'n':\n",
    "            break\n",
    "            "
   ]
  },
  {
   "cell_type": "code",
   "execution_count": 10,
   "metadata": {},
   "outputs": [],
   "source": [
    "def hit(card, hand):    \n",
    "    hand.add_card(card)\n",
    "    hand.adjust_for_ace()\n",
    "              "
   ]
  },
  {
   "cell_type": "code",
   "execution_count": 7,
   "metadata": {},
   "outputs": [],
   "source": [
    "def hit_or_stand(deck,hand, cur_num):\n",
    "    global playing  # to control an upcoming while loop\n",
    "    s = ''\n",
    "    while True:\n",
    "        for card in hand.cards:\n",
    "            print(f'{card} {card.value}')\n",
    "        print(hand)\n",
    "        \n",
    "        if hand.value > 21:\n",
    "            playing = False\n",
    "\n",
    "        s = input(\"Do you want to hit a card? Y - yes, N - No \")        \n",
    "        if s.lower() == 'y':\n",
    "            hit(deck[cur_num], hand)                \n",
    "        elif s.lower() == 'n':\n",
    "            playing = False\n",
    "            break"
   ]
  },
  {
   "cell_type": "code",
   "execution_count": 11,
   "metadata": {},
   "outputs": [],
   "source": [
    "def show_some(player_hand,dealer_hand):\n",
    "    for card in player_hand.cards:\n",
    "        print(f'{card} {card.values}')\n",
    "    print(player_hand)\n",
    "    \n",
    "    first_card = True\n",
    "    for card in dealer_hand.cards:\n",
    "        if first_card:\n",
    "            first_card = False\n",
    "            continue\n",
    "        else:\n",
    "            print(f'{card} {card.values}')\n",
    "        \n",
    "def show_all(player_hand,dealer_hand):    \n",
    "    print('Player hand:')\n",
    "    for card in player_hand.cards:\n",
    "        print(f'{card} {card.values}')\n",
    "    print(player_hand)\n",
    "    \n",
    "    print('Dealer hand')\n",
    "    for card in dealer_hand.cards:\n",
    "        print(f'{card} {card.values}')\n",
    "    print(dealer_hand)\n",
    "    \n",
    "\n",
    "def check_win_state(player_hand, dealer_hand, chips):         \n",
    "    if player_hand.value > dealer_hand.value: \n",
    "        chips.win_bet()\n",
    "        return f'Player won {chips.bet} chips'\n",
    "    if player_hand.value < dealer_hand.value:\n",
    "        chips.lose_bet()\n",
    "        return f'Player lost {chips.bet} chips'\n",
    "    if player_hand.value == dealer_hand.value:\n",
    "        chips.bet = 0\n",
    "        return \"It's a tie!\"    \n",
    "\n",
    "def player_busted(chips):\n",
    "    chips.lose_bet()\n",
    "    return f'Player is busted! You lost {chips.bet} chips'\n",
    "\n",
    "def dealer_busted(chips):\n",
    "    chips.win_bet()\n",
    "    return f'Dealer is busted! You won {chips.bet} chips'"
   ]
  },
  {
   "cell_type": "code",
   "execution_count": 7,
   "metadata": {},
   "outputs": [],
   "source": [
    "import random\n",
    "\n",
    "suits = ('Hearts', 'Diamonds', 'Spades', 'Clubs')\n",
    "ranks = ('Two', 'Three', 'Four', 'Five', 'Six', 'Seven', 'Eight', 'Nine', 'Ten', 'Jack', 'Queen', 'King', 'Ace')\n",
    "values = {'Two':2, 'Three':3, 'Four':4, 'Five':5, 'Six':6, 'Seven':7, 'Eight':8, 'Nine':9, 'Ten':10, 'Jack':10,\n",
    "         'Queen':10, 'King':10, 'Ace':11}\n"
   ]
  },
  {
   "cell_type": "code",
   "execution_count": 8,
   "metadata": {},
   "outputs": [],
   "source": [
    "card_holder = []"
   ]
  },
  {
   "cell_type": "code",
   "execution_count": 9,
   "metadata": {},
   "outputs": [],
   "source": [
    "#let's create a deck of 52 cards and put it in the list card holder\n",
    "for suit in range(len(suits)):\n",
    "    for rank in range(len(ranks)):\n",
    "        cards = Card(suits[suit], ranks[rank], values[ranks[rank]])   \n",
    "        card_holder.append(cards)"
   ]
  },
  {
   "cell_type": "code",
   "execution_count": 10,
   "metadata": {},
   "outputs": [
    {
     "data": {
      "text/plain": [
       "52"
      ]
     },
     "execution_count": 10,
     "metadata": {},
     "output_type": "execute_result"
    }
   ],
   "source": [
    "len(card_holder) #make sure that there are 52 cards in the list"
   ]
  },
  {
   "cell_type": "code",
   "execution_count": 11,
   "metadata": {},
   "outputs": [],
   "source": [
    "# Show the deck before shuffling\n",
    "for num in range(len(card_holder)):\n",
    "    #print(card_holder[num])\n",
    "    pass"
   ]
  },
  {
   "cell_type": "code",
   "execution_count": 12,
   "metadata": {},
   "outputs": [],
   "source": [
    "#Shuffle the deck\n",
    "random.shuffle(card_holder)"
   ]
  },
  {
   "cell_type": "code",
   "execution_count": 13,
   "metadata": {},
   "outputs": [],
   "source": [
    "# Show the deck after shuffling\n",
    "for num in range(len(card_holder)):\n",
    "    #print(card_holder[num])\n",
    "    pass"
   ]
  },
  {
   "cell_type": "code",
   "execution_count": 57,
   "metadata": {},
   "outputs": [],
   "source": [
    "player_hand = Hand() # Create a player hand"
   ]
  },
  {
   "cell_type": "code",
   "execution_count": 15,
   "metadata": {},
   "outputs": [
    {
     "name": "stdout",
     "output_type": "stream",
     "text": [
      "Eight of Hearts\n",
      "Ace of Clubs\n",
      "The hand score is 19\n"
     ]
    }
   ],
   "source": [
    "num = 1\n",
    "if  card_holder[num].playing == False:\n",
    "    player_hand.add_card(card_holder[num])    \n",
    "    \n",
    "num += 1\n",
    "if  card_holder[num].playing == False:\n",
    "    player_hand.add_card(card_holder[num])\n"
   ]
  },
  {
   "cell_type": "code",
   "execution_count": 16,
   "metadata": {
    "scrolled": true
   },
   "outputs": [
    {
     "name": "stdout",
     "output_type": "stream",
     "text": [
      "Eight of Hearts\n",
      "Ace of Clubs\n",
      "The hand score is 19\n"
     ]
    }
   ],
   "source": [
    "print(player_hand.cards[0])\n",
    "print(player_hand.cards[1])\n",
    "print(player_hand)"
   ]
  },
  {
   "cell_type": "code",
   "execution_count": 5,
   "metadata": {},
   "outputs": [],
   "source": [
    "\n",
    "money = Chips()\n",
    "\n",
    "While True:\n",
    "    card_holder = []\n",
    "    #let's create a deck of 52 cards and put it in the list card holder\n",
    "    for suit in range(len(suits)):\n",
    "        for rank in range(len(ranks)):\n",
    "            cards = Card(suits[suit], ranks[rank], values[ranks[rank]])   \n",
    "            card_holder.append(cards)\n",
    "    \n",
    "    random.shuffle(card_holder)\n",
    "    \n",
    "    take_bet(money)\n",
    "    \n",
    "    num = 1\n",
    "    player_hand = Hand()\n",
    "    dealer_hand = Hand()\n",
    "    \n",
    "    #dealer takes 2 cards\n",
    "    dealer_hand.add_card(card_holder[num])    \n",
    "    num += 1\n",
    "    dealer_hand.add_card(card_holder[num])    \n",
    "    \n",
    "    #player takes 2 cards\n",
    "    num += 1\n",
    "    player_hand.add_card(card_holder[num])    \n",
    "    num += 1\n",
    "    player_hand.add_card(card_holder[num])    \n",
    "    \n",
    "    show_some(player_hand, dealer_hand)\n",
    "    \n",
    "    playing = True\n",
    "    while playing:\n",
    "        hit_or_stand(card_holder, player_hand, num)\n",
    "        if player_hand.value > 21: \n",
    "            player_busted(money)\n",
    "            break\n",
    "        \n",
    "        while True:\n",
    "            if dealer_hand.value < 17:\n",
    "                if card_holder[num].playing: \n",
    "                    continue\n",
    "                else:\n",
    "                    hit(card_holder[num], dealer_hand)\n",
    "            elif dealer_hand.value > 21:\n",
    "                dealer_busted(money)\n",
    "            else:\n",
    "                break\n",
    "                \n",
    "            num+=1                \n",
    "    \n",
    "        \n",
    "    "
   ]
  },
  {
   "cell_type": "code",
   "execution_count": 18,
   "metadata": {},
   "outputs": [],
   "source": [
    "num += 1\n",
    "dealer_hand.add_card(card_holder[num])    \n",
    "num += 1\n",
    "dealer_hand.add_card(card_holder[num])    "
   ]
  },
  {
   "cell_type": "code",
   "execution_count": 20,
   "metadata": {},
   "outputs": [],
   "source": [
    "money = Chips()"
   ]
  },
  {
   "cell_type": "code",
   "execution_count": 67,
   "metadata": {},
   "outputs": [],
   "source": [
    "hit(card_holder[15], player_hand)"
   ]
  },
  {
   "cell_type": "code",
   "execution_count": 68,
   "metadata": {},
   "outputs": [
    {
     "name": "stdout",
     "output_type": "stream",
     "text": [
      "Five of Clubs 5\n",
      "Three of Spades 3\n",
      "Four of Diamonds 4\n",
      "Seven of Hearts 7\n",
      "King of Spades 10\n",
      "The hand score is 29\n"
     ]
    }
   ],
   "source": [
    "for card in player_hand.cards:\n",
    "    print(f'{card} {card.values}')\n",
    "\n",
    "print(player_hand)"
   ]
  },
  {
   "cell_type": "code",
   "execution_count": 22,
   "metadata": {},
   "outputs": [
    {
     "data": {
      "text/plain": [
       "0"
      ]
     },
     "execution_count": 22,
     "metadata": {},
     "output_type": "execute_result"
    }
   ],
   "source": [
    "money.bet"
   ]
  },
  {
   "cell_type": "code",
   "execution_count": 23,
   "metadata": {},
   "outputs": [
    {
     "data": {
      "text/plain": [
       "'Current bet is 10 chips'"
      ]
     },
     "execution_count": 23,
     "metadata": {},
     "output_type": "execute_result"
    }
   ],
   "source": [
    "money.increase_bet(10)"
   ]
  },
  {
   "cell_type": "code",
   "execution_count": 24,
   "metadata": {},
   "outputs": [
    {
     "data": {
      "text/plain": [
       "'Now, you have 110 chips'"
      ]
     },
     "execution_count": 24,
     "metadata": {},
     "output_type": "execute_result"
    }
   ],
   "source": [
    "money.win_bet()"
   ]
  },
  {
   "cell_type": "code",
   "execution_count": null,
   "metadata": {},
   "outputs": [],
   "source": []
  }
 ],
 "metadata": {
  "kernelspec": {
   "display_name": "Python 3",
   "language": "python",
   "name": "python3"
  },
  "language_info": {
   "codemirror_mode": {
    "name": "ipython",
    "version": 3
   },
   "file_extension": ".py",
   "mimetype": "text/x-python",
   "name": "python",
   "nbconvert_exporter": "python",
   "pygments_lexer": "ipython3",
   "version": "3.6.5"
  }
 },
 "nbformat": 4,
 "nbformat_minor": 2
}
