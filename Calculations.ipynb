{
 "cells": [
  {
   "cell_type": "code",
   "execution_count": 50,
   "metadata": {},
   "outputs": [],
   "source": [
    "#open an input file for further analysis\n",
    "distance = []\n",
    "amplitude = []\n",
    "try:\n",
    "    with open('C:\\\\python\\\\input_files\\\\input_ldf_01.txt') as f:\n",
    "        for line in f:\n",
    "            distance, amplitude = line.split(';')\n",
    "except:\n",
    "    print(\"there was an error\")"
   ]
  },
  {
   "cell_type": "code",
   "execution_count": 45,
   "metadata": {},
   "outputs": [
    {
     "data": {
      "text/plain": [
       "'1000'"
      ]
     },
     "execution_count": 45,
     "metadata": {},
     "output_type": "execute_result"
    }
   ],
   "source": []
  },
  {
   "cell_type": "code",
   "execution_count": 39,
   "metadata": {},
   "outputs": [
    {
     "name": "stdout",
     "output_type": "stream",
     "text": [
      "65 18,8\n",
      "\n",
      "95 12,2\n",
      "\n",
      "128 11\n",
      "\n",
      "157 8,7\n",
      "\n",
      "205 6,2\n",
      "\n",
      "264 5,1\n",
      "\n",
      "348 3,3\n",
      "\n",
      "490 1,7\n",
      "\n",
      "700 0,65\n",
      "\n",
      "1000 0,33\n"
     ]
    }
   ],
   "source": [
    "\n",
    "\n"
   ]
  },
  {
   "cell_type": "code",
   "execution_count": null,
   "metadata": {},
   "outputs": [],
   "source": []
  }
 ],
 "metadata": {
  "kernelspec": {
   "display_name": "Python 3",
   "language": "python",
   "name": "python3"
  },
  "language_info": {
   "codemirror_mode": {
    "name": "ipython",
    "version": 3
   },
   "file_extension": ".py",
   "mimetype": "text/x-python",
   "name": "python",
   "nbconvert_exporter": "python",
   "pygments_lexer": "ipython3",
   "version": "3.6.5"
  }
 },
 "nbformat": 4,
 "nbformat_minor": 2
}
