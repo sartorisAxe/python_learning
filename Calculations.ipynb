{
 "cells": [
  {
   "cell_type": "code",
   "execution_count": 1,
   "metadata": {},
   "outputs": [],
   "source": [
    "dist = []\n",
    "amp = []"
   ]
  },
  {
   "cell_type": "code",
   "execution_count": 2,
   "metadata": {},
   "outputs": [],
   "source": [
    "def unfold(path_name):\n",
    "    distance = []\n",
    "    amplitude = []\n",
    "    try:\n",
    "        with open(path_name) as f:\n",
    "            for line in f:\n",
    "                dist, amp = line.split(';')\n",
    "                try:                   \n",
    "                    amp = '.'.join(amp.split(','))                \n",
    "                except:\n",
    "                    pass\n",
    "                distance.append(int(dist))\n",
    "                amplitude.append(float(amp)) \n",
    "            return [distance, amplitude]\n",
    "    except:\n",
    "        print(\"there was an error\")\n"
   ]
  },
  {
   "cell_type": "code",
   "execution_count": 3,
   "metadata": {},
   "outputs": [],
   "source": [
    "dist, amp = unfold('C:\\\\python\\\\input_files\\\\input_ldf_01.txt')"
   ]
  },
  {
   "cell_type": "code",
   "execution_count": 4,
   "metadata": {},
   "outputs": [
    {
     "data": {
      "text/plain": [
       "[65, 95, 128, 157, 205, 264, 348, 490, 700, 1000]"
      ]
     },
     "execution_count": 4,
     "metadata": {},
     "output_type": "execute_result"
    }
   ],
   "source": [
    "dist"
   ]
  },
  {
   "cell_type": "code",
   "execution_count": null,
   "metadata": {},
   "outputs": [],
   "source": []
  }
 ],
 "metadata": {
  "kernelspec": {
   "display_name": "Python 3",
   "language": "python",
   "name": "python3"
  },
  "language_info": {
   "codemirror_mode": {
    "name": "ipython",
    "version": 3
   },
   "file_extension": ".py",
   "mimetype": "text/x-python",
   "name": "python",
   "nbconvert_exporter": "python",
   "pygments_lexer": "ipython3",
   "version": "3.6.5"
  }
 },
 "nbformat": 4,
 "nbformat_minor": 2
}
